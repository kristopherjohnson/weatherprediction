{
 "cells": [
  {
   "cell_type": "markdown",
   "metadata": {},
   "source": [
    "# Weather Prediction\n",
    "\n",
    "In this project, we want to see if we can use machine learning to predict daily weather conditions (high/low temperature and precipitation) for a location using data from surrounding locations from preceding days.\n",
    "\n",
    "More specifically, we are going to train a machine-learning model using daily weather data obtained from [Automated Surface Observing System (ASOS)](https://www.ncdc.noaa.gov/data-access/land-based-station-data/land-based-datasets/automated-surface-observing-system-asos) units for the 20-year period from 1998 through 2017.  We will use the stations within a 1000-mile radius of Roswell, Georgia, USA (my home town) and try to make predictions for the observations of the closest ASOS unit to that location.\n",
    "\n",
    "I'm not expecting this to provide very accurate forecasts, but it serves as a simple personal project that will let me exercise the knowledge gained through recent data-science and machine-learning courses."
   ]
  },
  {
   "cell_type": "code",
   "execution_count": 1,
   "metadata": {},
   "outputs": [
    {
     "name": "stderr",
     "output_type": "stream",
     "text": [
      "/Users/kdj/anaconda3/lib/python3.6/site-packages/h5py/__init__.py:36: FutureWarning: Conversion of the second argument of issubdtype from `float` to `np.floating` is deprecated. In future, it will be treated as `np.float64 == np.dtype(float).type`.\n",
      "  from ._conv import register_converters as _register_converters\n"
     ]
    }
   ],
   "source": [
    "import gzip\n",
    "import os\n",
    "import sys\n",
    "\n",
    "import numpy as np\n",
    "import matplotlib.pyplot as plt\n",
    "import pandas as pd\n",
    "import seaborn as sns\n",
    "import tensorflow as tf\n",
    "\n",
    "from geopy import distance"
   ]
  },
  {
   "cell_type": "code",
   "execution_count": 2,
   "metadata": {},
   "outputs": [],
   "source": [
    "sns.set_style('whitegrid')\n",
    "\n",
    "%matplotlib inline"
   ]
  },
  {
   "cell_type": "markdown",
   "metadata": {},
   "source": [
    "## Stations\n",
    "\n",
    "Our first goal is to get the IDs of all the stations for which we will be processing data.  We want to get a list of all the stations that are within 1000 miles of our location."
   ]
  },
  {
   "cell_type": "code",
   "execution_count": 3,
   "metadata": {},
   "outputs": [],
   "source": [
    "# Roswell, GA, USA\n",
    "my_lat = 34.0232\n",
    "my_lon = -84.3616\n",
    "\n",
    "distance_threshold = 1000\n",
    "\n",
    "date_start = 19980101\n",
    "date_end = 20171231"
   ]
  },
  {
   "cell_type": "markdown",
   "metadata": {},
   "source": [
    "First, read the list of all stations available in the ASOS system.\n",
    "\n",
    "(This data comes from <ftp://ftp.ncdc.noaa.gov/pub/data/noaa/isd-history.csv>, but I've stored the file locally.)"
   ]
  },
  {
   "cell_type": "code",
   "execution_count": 4,
   "metadata": {},
   "outputs": [],
   "source": [
    "stations = pd.read_csv('isd/isd-history.csv',\n",
    "                       dtype={'USAF' : str,\n",
    "                              'WBAN' : str,\n",
    "                              'BEGIN' : int,\n",
    "                              'END' : int})"
   ]
  },
  {
   "cell_type": "code",
   "execution_count": 5,
   "metadata": {},
   "outputs": [
    {
     "data": {
      "text/html": [
       "<div>\n",
       "<style scoped>\n",
       "    .dataframe tbody tr th:only-of-type {\n",
       "        vertical-align: middle;\n",
       "    }\n",
       "\n",
       "    .dataframe tbody tr th {\n",
       "        vertical-align: top;\n",
       "    }\n",
       "\n",
       "    .dataframe thead th {\n",
       "        text-align: right;\n",
       "    }\n",
       "</style>\n",
       "<table border=\"1\" class=\"dataframe\">\n",
       "  <thead>\n",
       "    <tr style=\"text-align: right;\">\n",
       "      <th></th>\n",
       "      <th>USAF</th>\n",
       "      <th>WBAN</th>\n",
       "      <th>STATION NAME</th>\n",
       "      <th>CTRY</th>\n",
       "      <th>STATE</th>\n",
       "      <th>ICAO</th>\n",
       "      <th>LAT</th>\n",
       "      <th>LON</th>\n",
       "      <th>ELEV(M)</th>\n",
       "      <th>BEGIN</th>\n",
       "      <th>END</th>\n",
       "    </tr>\n",
       "  </thead>\n",
       "  <tbody>\n",
       "    <tr>\n",
       "      <th>0</th>\n",
       "      <td>007026</td>\n",
       "      <td>99999</td>\n",
       "      <td>WXPOD 7026</td>\n",
       "      <td>AF</td>\n",
       "      <td>NaN</td>\n",
       "      <td>NaN</td>\n",
       "      <td>0.0</td>\n",
       "      <td>0.0</td>\n",
       "      <td>7026.0</td>\n",
       "      <td>20140711</td>\n",
       "      <td>20170822</td>\n",
       "    </tr>\n",
       "    <tr>\n",
       "      <th>1</th>\n",
       "      <td>007070</td>\n",
       "      <td>99999</td>\n",
       "      <td>WXPOD 7070</td>\n",
       "      <td>AF</td>\n",
       "      <td>NaN</td>\n",
       "      <td>NaN</td>\n",
       "      <td>0.0</td>\n",
       "      <td>0.0</td>\n",
       "      <td>7070.0</td>\n",
       "      <td>20140923</td>\n",
       "      <td>20150926</td>\n",
       "    </tr>\n",
       "    <tr>\n",
       "      <th>2</th>\n",
       "      <td>008403</td>\n",
       "      <td>99999</td>\n",
       "      <td>XM10</td>\n",
       "      <td>NaN</td>\n",
       "      <td>NaN</td>\n",
       "      <td>NaN</td>\n",
       "      <td>NaN</td>\n",
       "      <td>NaN</td>\n",
       "      <td>NaN</td>\n",
       "      <td>20140101</td>\n",
       "      <td>20140412</td>\n",
       "    </tr>\n",
       "    <tr>\n",
       "      <th>3</th>\n",
       "      <td>008411</td>\n",
       "      <td>99999</td>\n",
       "      <td>XM20</td>\n",
       "      <td>NaN</td>\n",
       "      <td>NaN</td>\n",
       "      <td>NaN</td>\n",
       "      <td>NaN</td>\n",
       "      <td>NaN</td>\n",
       "      <td>NaN</td>\n",
       "      <td>20140102</td>\n",
       "      <td>20160217</td>\n",
       "    </tr>\n",
       "    <tr>\n",
       "      <th>4</th>\n",
       "      <td>008414</td>\n",
       "      <td>99999</td>\n",
       "      <td>XM18</td>\n",
       "      <td>NaN</td>\n",
       "      <td>NaN</td>\n",
       "      <td>NaN</td>\n",
       "      <td>NaN</td>\n",
       "      <td>NaN</td>\n",
       "      <td>NaN</td>\n",
       "      <td>20140101</td>\n",
       "      <td>20160217</td>\n",
       "    </tr>\n",
       "  </tbody>\n",
       "</table>\n",
       "</div>"
      ],
      "text/plain": [
       "     USAF   WBAN STATION NAME CTRY STATE ICAO  LAT  LON  ELEV(M)     BEGIN  \\\n",
       "0  007026  99999   WXPOD 7026   AF   NaN  NaN  0.0  0.0   7026.0  20140711   \n",
       "1  007070  99999   WXPOD 7070   AF   NaN  NaN  0.0  0.0   7070.0  20140923   \n",
       "2  008403  99999         XM10  NaN   NaN  NaN  NaN  NaN      NaN  20140101   \n",
       "3  008411  99999         XM20  NaN   NaN  NaN  NaN  NaN      NaN  20140102   \n",
       "4  008414  99999         XM18  NaN   NaN  NaN  NaN  NaN      NaN  20140101   \n",
       "\n",
       "        END  \n",
       "0  20170822  \n",
       "1  20150926  \n",
       "2  20140412  \n",
       "3  20160217  \n",
       "4  20160217  "
      ]
     },
     "execution_count": 5,
     "metadata": {},
     "output_type": "execute_result"
    }
   ],
   "source": [
    "stations.head()"
   ]
  },
  {
   "cell_type": "code",
   "execution_count": 6,
   "metadata": {},
   "outputs": [
    {
     "data": {
      "text/html": [
       "<div>\n",
       "<style scoped>\n",
       "    .dataframe tbody tr th:only-of-type {\n",
       "        vertical-align: middle;\n",
       "    }\n",
       "\n",
       "    .dataframe tbody tr th {\n",
       "        vertical-align: top;\n",
       "    }\n",
       "\n",
       "    .dataframe thead th {\n",
       "        text-align: right;\n",
       "    }\n",
       "</style>\n",
       "<table border=\"1\" class=\"dataframe\">\n",
       "  <thead>\n",
       "    <tr style=\"text-align: right;\">\n",
       "      <th></th>\n",
       "      <th>LAT</th>\n",
       "      <th>LON</th>\n",
       "      <th>ELEV(M)</th>\n",
       "      <th>BEGIN</th>\n",
       "      <th>END</th>\n",
       "    </tr>\n",
       "  </thead>\n",
       "  <tbody>\n",
       "    <tr>\n",
       "      <th>count</th>\n",
       "      <td>28767.000000</td>\n",
       "      <td>28766.000000</td>\n",
       "      <td>28673.000000</td>\n",
       "      <td>3.005100e+04</td>\n",
       "      <td>3.005100e+04</td>\n",
       "    </tr>\n",
       "    <tr>\n",
       "      <th>mean</th>\n",
       "      <td>30.676749</td>\n",
       "      <td>-3.670749</td>\n",
       "      <td>339.497928</td>\n",
       "      <td>1.978650e+07</td>\n",
       "      <td>2.004861e+07</td>\n",
       "    </tr>\n",
       "    <tr>\n",
       "      <th>std</th>\n",
       "      <td>28.731541</td>\n",
       "      <td>87.375176</td>\n",
       "      <td>584.540215</td>\n",
       "      <td>2.365312e+05</td>\n",
       "      <td>1.899937e+05</td>\n",
       "    </tr>\n",
       "    <tr>\n",
       "      <th>min</th>\n",
       "      <td>-90.000000</td>\n",
       "      <td>-179.983000</td>\n",
       "      <td>-999.900000</td>\n",
       "      <td>1.901010e+07</td>\n",
       "      <td>1.905123e+07</td>\n",
       "    </tr>\n",
       "    <tr>\n",
       "      <th>25%</th>\n",
       "      <td>20.950000</td>\n",
       "      <td>-82.885250</td>\n",
       "      <td>20.000000</td>\n",
       "      <td>1.959010e+07</td>\n",
       "      <td>2.001101e+07</td>\n",
       "    </tr>\n",
       "    <tr>\n",
       "      <th>50%</th>\n",
       "      <td>38.909000</td>\n",
       "      <td>5.201000</td>\n",
       "      <td>133.000000</td>\n",
       "      <td>1.977070e+07</td>\n",
       "      <td>2.015072e+07</td>\n",
       "    </tr>\n",
       "    <tr>\n",
       "      <th>75%</th>\n",
       "      <td>49.658500</td>\n",
       "      <td>58.917000</td>\n",
       "      <td>424.900000</td>\n",
       "      <td>2.001113e+07</td>\n",
       "      <td>2.018042e+07</td>\n",
       "    </tr>\n",
       "    <tr>\n",
       "      <th>max</th>\n",
       "      <td>89.370000</td>\n",
       "      <td>179.750000</td>\n",
       "      <td>7070.000000</td>\n",
       "      <td>2.018040e+07</td>\n",
       "      <td>2.018042e+07</td>\n",
       "    </tr>\n",
       "  </tbody>\n",
       "</table>\n",
       "</div>"
      ],
      "text/plain": [
       "                LAT           LON       ELEV(M)         BEGIN           END\n",
       "count  28767.000000  28766.000000  28673.000000  3.005100e+04  3.005100e+04\n",
       "mean      30.676749     -3.670749    339.497928  1.978650e+07  2.004861e+07\n",
       "std       28.731541     87.375176    584.540215  2.365312e+05  1.899937e+05\n",
       "min      -90.000000   -179.983000   -999.900000  1.901010e+07  1.905123e+07\n",
       "25%       20.950000    -82.885250     20.000000  1.959010e+07  2.001101e+07\n",
       "50%       38.909000      5.201000    133.000000  1.977070e+07  2.015072e+07\n",
       "75%       49.658500     58.917000    424.900000  2.001113e+07  2.018042e+07\n",
       "max       89.370000    179.750000   7070.000000  2.018040e+07  2.018042e+07"
      ]
     },
     "execution_count": 6,
     "metadata": {},
     "output_type": "execute_result"
    }
   ],
   "source": [
    "stations.describe()"
   ]
  },
  {
   "cell_type": "markdown",
   "metadata": {},
   "source": [
    "Let's drop any rows that have NaN for LAT or LON."
   ]
  },
  {
   "cell_type": "code",
   "execution_count": 7,
   "metadata": {},
   "outputs": [],
   "source": [
    "stations = stations.dropna(subset=['LAT', 'LON'])"
   ]
  },
  {
   "cell_type": "markdown",
   "metadata": {},
   "source": [
    "We'll only look at the stations for the northern half of the western hemisphere."
   ]
  },
  {
   "cell_type": "code",
   "execution_count": 8,
   "metadata": {},
   "outputs": [],
   "source": [
    "stations = stations[(stations['LAT'] > 0.0) & (stations['LON'] < 0.0)]"
   ]
  },
  {
   "cell_type": "markdown",
   "metadata": {},
   "source": [
    "Let's drop any stations for which data collection began after 1998-01-01 or ended before 2018-01-01."
   ]
  },
  {
   "cell_type": "code",
   "execution_count": 9,
   "metadata": {},
   "outputs": [],
   "source": [
    "stations = stations[stations['BEGIN'] <= date_start]\n",
    "stations = stations[stations['END'] > date_end]"
   ]
  },
  {
   "cell_type": "markdown",
   "metadata": {},
   "source": [
    "Now determine the distance between each station and my location."
   ]
  },
  {
   "cell_type": "code",
   "execution_count": 10,
   "metadata": {},
   "outputs": [],
   "source": [
    "def miles_from_my_location(station):\n",
    "    my_loc = (my_lat, my_lon)\n",
    "    station_loc = (station['LAT'], station['LON'])\n",
    "    return distance.distance(my_loc, station_loc).miles\n",
    "\n",
    "stations['DISTANCE'] = stations.apply(miles_from_my_location, axis=1)"
   ]
  },
  {
   "cell_type": "markdown",
   "metadata": {},
   "source": [
    "And now only consider the stations within the 1000-mile radius."
   ]
  },
  {
   "cell_type": "code",
   "execution_count": 11,
   "metadata": {},
   "outputs": [],
   "source": [
    "stations = stations[stations['DISTANCE'] <= distance_threshold]\n",
    "\n",
    "# Allow garbage collection of what we don't need from the original data frame.\n",
    "stations = stations.copy()"
   ]
  },
  {
   "cell_type": "markdown",
   "metadata": {},
   "source": [
    "Let's look at what we have."
   ]
  },
  {
   "cell_type": "code",
   "execution_count": 12,
   "metadata": {},
   "outputs": [
    {
     "data": {
      "text/html": [
       "<div>\n",
       "<style scoped>\n",
       "    .dataframe tbody tr th:only-of-type {\n",
       "        vertical-align: middle;\n",
       "    }\n",
       "\n",
       "    .dataframe tbody tr th {\n",
       "        vertical-align: top;\n",
       "    }\n",
       "\n",
       "    .dataframe thead th {\n",
       "        text-align: right;\n",
       "    }\n",
       "</style>\n",
       "<table border=\"1\" class=\"dataframe\">\n",
       "  <thead>\n",
       "    <tr style=\"text-align: right;\">\n",
       "      <th></th>\n",
       "      <th>USAF</th>\n",
       "      <th>WBAN</th>\n",
       "      <th>STATION NAME</th>\n",
       "      <th>CTRY</th>\n",
       "      <th>STATE</th>\n",
       "      <th>ICAO</th>\n",
       "      <th>LAT</th>\n",
       "      <th>LON</th>\n",
       "      <th>ELEV(M)</th>\n",
       "      <th>BEGIN</th>\n",
       "      <th>END</th>\n",
       "      <th>DISTANCE</th>\n",
       "    </tr>\n",
       "  </thead>\n",
       "  <tbody>\n",
       "    <tr>\n",
       "      <th>14482</th>\n",
       "      <td>690190</td>\n",
       "      <td>13910</td>\n",
       "      <td>ABILENE DYESS AFB</td>\n",
       "      <td>US</td>\n",
       "      <td>TX</td>\n",
       "      <td>KDYS</td>\n",
       "      <td>32.433</td>\n",
       "      <td>-99.850</td>\n",
       "      <td>545.3</td>\n",
       "      <td>19431201</td>\n",
       "      <td>20180420</td>\n",
       "      <td>902.862014</td>\n",
       "    </tr>\n",
       "    <tr>\n",
       "      <th>15640</th>\n",
       "      <td>710630</td>\n",
       "      <td>99999</td>\n",
       "      <td>OTTAWA CDA RCS  ONT</td>\n",
       "      <td>CA</td>\n",
       "      <td>NaN</td>\n",
       "      <td>NaN</td>\n",
       "      <td>45.383</td>\n",
       "      <td>-75.717</td>\n",
       "      <td>79.0</td>\n",
       "      <td>19770701</td>\n",
       "      <td>20180419</td>\n",
       "      <td>907.816765</td>\n",
       "    </tr>\n",
       "    <tr>\n",
       "      <th>15821</th>\n",
       "      <td>711610</td>\n",
       "      <td>99999</td>\n",
       "      <td>BROCKVILLE CLIMATE</td>\n",
       "      <td>CA</td>\n",
       "      <td>NaN</td>\n",
       "      <td>CTBO</td>\n",
       "      <td>44.633</td>\n",
       "      <td>-75.733</td>\n",
       "      <td>120.0</td>\n",
       "      <td>19930701</td>\n",
       "      <td>20180419</td>\n",
       "      <td>864.541597</td>\n",
       "    </tr>\n",
       "    <tr>\n",
       "      <th>15828</th>\n",
       "      <td>711680</td>\n",
       "      <td>99999</td>\n",
       "      <td>SIOUX FALLS CLIMATE</td>\n",
       "      <td>US</td>\n",
       "      <td>SD</td>\n",
       "      <td>NaN</td>\n",
       "      <td>43.733</td>\n",
       "      <td>-96.633</td>\n",
       "      <td>481.5</td>\n",
       "      <td>19941001</td>\n",
       "      <td>20180419</td>\n",
       "      <td>939.498888</td>\n",
       "    </tr>\n",
       "    <tr>\n",
       "      <th>15842</th>\n",
       "      <td>711830</td>\n",
       "      <td>99999</td>\n",
       "      <td>MONTREAL/PIERRE ELLIOTT TRUDEAU INTL  QU</td>\n",
       "      <td>CA</td>\n",
       "      <td>NaN</td>\n",
       "      <td>CWTQ</td>\n",
       "      <td>45.467</td>\n",
       "      <td>-73.733</td>\n",
       "      <td>32.0</td>\n",
       "      <td>19910118</td>\n",
       "      <td>20180419</td>\n",
       "      <td>969.588120</td>\n",
       "    </tr>\n",
       "  </tbody>\n",
       "</table>\n",
       "</div>"
      ],
      "text/plain": [
       "         USAF   WBAN                              STATION NAME CTRY STATE  \\\n",
       "14482  690190  13910                         ABILENE DYESS AFB   US    TX   \n",
       "15640  710630  99999                       OTTAWA CDA RCS  ONT   CA   NaN   \n",
       "15821  711610  99999                        BROCKVILLE CLIMATE   CA   NaN   \n",
       "15828  711680  99999                       SIOUX FALLS CLIMATE   US    SD   \n",
       "15842  711830  99999  MONTREAL/PIERRE ELLIOTT TRUDEAU INTL  QU   CA   NaN   \n",
       "\n",
       "       ICAO     LAT     LON  ELEV(M)     BEGIN       END    DISTANCE  \n",
       "14482  KDYS  32.433 -99.850    545.3  19431201  20180420  902.862014  \n",
       "15640   NaN  45.383 -75.717     79.0  19770701  20180419  907.816765  \n",
       "15821  CTBO  44.633 -75.733    120.0  19930701  20180419  864.541597  \n",
       "15828   NaN  43.733 -96.633    481.5  19941001  20180419  939.498888  \n",
       "15842  CWTQ  45.467 -73.733     32.0  19910118  20180419  969.588120  "
      ]
     },
     "execution_count": 12,
     "metadata": {},
     "output_type": "execute_result"
    }
   ],
   "source": [
    "stations.head()"
   ]
  },
  {
   "cell_type": "code",
   "execution_count": 13,
   "metadata": {},
   "outputs": [
    {
     "data": {
      "text/html": [
       "<div>\n",
       "<style scoped>\n",
       "    .dataframe tbody tr th:only-of-type {\n",
       "        vertical-align: middle;\n",
       "    }\n",
       "\n",
       "    .dataframe tbody tr th {\n",
       "        vertical-align: top;\n",
       "    }\n",
       "\n",
       "    .dataframe thead th {\n",
       "        text-align: right;\n",
       "    }\n",
       "</style>\n",
       "<table border=\"1\" class=\"dataframe\">\n",
       "  <thead>\n",
       "    <tr style=\"text-align: right;\">\n",
       "      <th></th>\n",
       "      <th>LAT</th>\n",
       "      <th>LON</th>\n",
       "      <th>ELEV(M)</th>\n",
       "      <th>BEGIN</th>\n",
       "      <th>END</th>\n",
       "      <th>DISTANCE</th>\n",
       "    </tr>\n",
       "  </thead>\n",
       "  <tbody>\n",
       "    <tr>\n",
       "      <th>count</th>\n",
       "      <td>486.000000</td>\n",
       "      <td>486.000000</td>\n",
       "      <td>486.000000</td>\n",
       "      <td>4.860000e+02</td>\n",
       "      <td>4.860000e+02</td>\n",
       "      <td>486.000000</td>\n",
       "    </tr>\n",
       "    <tr>\n",
       "      <th>mean</th>\n",
       "      <td>37.092963</td>\n",
       "      <td>-84.573570</td>\n",
       "      <td>163.548354</td>\n",
       "      <td>1.966858e+07</td>\n",
       "      <td>2.018042e+07</td>\n",
       "      <td>604.481595</td>\n",
       "    </tr>\n",
       "    <tr>\n",
       "      <th>std</th>\n",
       "      <td>6.276628</td>\n",
       "      <td>7.806057</td>\n",
       "      <td>163.556541</td>\n",
       "      <td>1.801366e+05</td>\n",
       "      <td>1.921877e+01</td>\n",
       "      <td>242.103940</td>\n",
       "    </tr>\n",
       "    <tr>\n",
       "      <th>min</th>\n",
       "      <td>20.522000</td>\n",
       "      <td>-101.704000</td>\n",
       "      <td>0.000000</td>\n",
       "      <td>1.935100e+07</td>\n",
       "      <td>2.018010e+07</td>\n",
       "      <td>11.541827</td>\n",
       "    </tr>\n",
       "    <tr>\n",
       "      <th>25%</th>\n",
       "      <td>32.361250</td>\n",
       "      <td>-90.350000</td>\n",
       "      <td>18.300000</td>\n",
       "      <td>1.946100e+07</td>\n",
       "      <td>2.018042e+07</td>\n",
       "      <td>430.809657</td>\n",
       "    </tr>\n",
       "    <tr>\n",
       "      <th>50%</th>\n",
       "      <td>38.347000</td>\n",
       "      <td>-83.547000</td>\n",
       "      <td>126.350000</td>\n",
       "      <td>1.973010e+07</td>\n",
       "      <td>2.018042e+07</td>\n",
       "      <td>628.350825</td>\n",
       "    </tr>\n",
       "    <tr>\n",
       "      <th>75%</th>\n",
       "      <td>42.232500</td>\n",
       "      <td>-78.727000</td>\n",
       "      <td>252.550000</td>\n",
       "      <td>1.978794e+07</td>\n",
       "      <td>2.018042e+07</td>\n",
       "      <td>803.484092</td>\n",
       "    </tr>\n",
       "    <tr>\n",
       "      <th>max</th>\n",
       "      <td>47.967000</td>\n",
       "      <td>-69.430000</td>\n",
       "      <td>1098.500000</td>\n",
       "      <td>1.997100e+07</td>\n",
       "      <td>2.018042e+07</td>\n",
       "      <td>996.596789</td>\n",
       "    </tr>\n",
       "  </tbody>\n",
       "</table>\n",
       "</div>"
      ],
      "text/plain": [
       "              LAT         LON      ELEV(M)         BEGIN           END  \\\n",
       "count  486.000000  486.000000   486.000000  4.860000e+02  4.860000e+02   \n",
       "mean    37.092963  -84.573570   163.548354  1.966858e+07  2.018042e+07   \n",
       "std      6.276628    7.806057   163.556541  1.801366e+05  1.921877e+01   \n",
       "min     20.522000 -101.704000     0.000000  1.935100e+07  2.018010e+07   \n",
       "25%     32.361250  -90.350000    18.300000  1.946100e+07  2.018042e+07   \n",
       "50%     38.347000  -83.547000   126.350000  1.973010e+07  2.018042e+07   \n",
       "75%     42.232500  -78.727000   252.550000  1.978794e+07  2.018042e+07   \n",
       "max     47.967000  -69.430000  1098.500000  1.997100e+07  2.018042e+07   \n",
       "\n",
       "         DISTANCE  \n",
       "count  486.000000  \n",
       "mean   604.481595  \n",
       "std    242.103940  \n",
       "min     11.541827  \n",
       "25%    430.809657  \n",
       "50%    628.350825  \n",
       "75%    803.484092  \n",
       "max    996.596789  "
      ]
     },
     "execution_count": 13,
     "metadata": {},
     "output_type": "execute_result"
    }
   ],
   "source": [
    "stations.describe()"
   ]
  },
  {
   "cell_type": "markdown",
   "metadata": {},
   "source": [
    "That gives us about 500 stations within the 1000-mile radius. If we plot the locations of these stations and our location, we can see a rough outline of the US East Coast and Gulf Coast, so our set of stations seems to be centered roughly around the southeastern US, as expected."
   ]
  },
  {
   "cell_type": "code",
   "execution_count": 32,
   "metadata": {},
   "outputs": [
    {
     "data": {
      "text/plain": [
       "(-103.32504669885078, -67.8089533011492, 19.13843802991515, 49.35056197008485)"
      ]
     },
     "execution_count": 32,
     "metadata": {},
     "output_type": "execute_result"
    },
    {
     "data": {
      "image/png": "[encoded data removed]",
      "text/plain": [
       "<Figure size 432x288 with 1 Axes>"
      ]
     },
     "metadata": {},
     "output_type": "display_data"
    }
   ],
   "source": [
    "stations.plot.scatter(x='LON', y='LAT', c='gray')\n",
    "plt.plot(my_lon, my_lat,\n",
    "         '*', c='#ffffaa', markersize=30,\n",
    "         markeredgewidth=2, markeredgecolor='black')\n",
    "plt.axis('equal')"
   ]
  },
  {
   "cell_type": "markdown",
   "metadata": {},
   "source": [
    "Most of the stations are in the US, but we also have some in Canada, Mexico, the Bahamas, and Cuba.\n",
    "\n",
    "(The set of all country codes can be downloaded from <ftp://ftp.ncdc.noaa.gov/pub/data/noaa/country-list.txt>.)"
   ]
  },
  {
   "cell_type": "code",
   "execution_count": 15,
   "metadata": {},
   "outputs": [
    {
     "data": {
      "text/plain": [
       "array(['US', 'CA', 'MX', 'BF', 'CU'], dtype=object)"
      ]
     },
     "execution_count": 15,
     "metadata": {},
     "output_type": "execute_result"
    }
   ],
   "source": [
    "stations['CTRY'].unique()"
   ]
  },
  {
   "cell_type": "markdown",
   "metadata": {},
   "source": [
    "As a quick sanity check, let's look at the stations in Georgia."
   ]
  },
  {
   "cell_type": "code",
   "execution_count": 16,
   "metadata": {},
   "outputs": [
    {
     "data": {
      "text/html": [
       "<div>\n",
       "<style scoped>\n",
       "    .dataframe tbody tr th:only-of-type {\n",
       "        vertical-align: middle;\n",
       "    }\n",
       "\n",
       "    .dataframe tbody tr th {\n",
       "        vertical-align: top;\n",
       "    }\n",
       "\n",
       "    .dataframe thead th {\n",
       "        text-align: right;\n",
       "    }\n",
       "</style>\n",
       "<table border=\"1\" class=\"dataframe\">\n",
       "  <thead>\n",
       "    <tr style=\"text-align: right;\">\n",
       "      <th></th>\n",
       "      <th>USAF</th>\n",
       "      <th>WBAN</th>\n",
       "      <th>STATION NAME</th>\n",
       "      <th>CTRY</th>\n",
       "      <th>STATE</th>\n",
       "      <th>ICAO</th>\n",
       "      <th>LAT</th>\n",
       "      <th>LON</th>\n",
       "      <th>ELEV(M)</th>\n",
       "      <th>BEGIN</th>\n",
       "      <th>END</th>\n",
       "      <th>DISTANCE</th>\n",
       "    </tr>\n",
       "  </thead>\n",
       "  <tbody>\n",
       "    <tr>\n",
       "      <th>18030</th>\n",
       "      <td>722070</td>\n",
       "      <td>03822</td>\n",
       "      <td>SAVANNAH/HILTON HEAD INTL AIRPORT</td>\n",
       "      <td>US</td>\n",
       "      <td>GA</td>\n",
       "      <td>KSAV</td>\n",
       "      <td>32.131</td>\n",
       "      <td>-81.202</td>\n",
       "      <td>14.0</td>\n",
       "      <td>19480101</td>\n",
       "      <td>20180420</td>\n",
       "      <td>224.941914</td>\n",
       "    </tr>\n",
       "    <tr>\n",
       "      <th>18132</th>\n",
       "      <td>722130</td>\n",
       "      <td>13861</td>\n",
       "      <td>WAYCROSS-WARE CO. AIRPORT</td>\n",
       "      <td>US</td>\n",
       "      <td>GA</td>\n",
       "      <td>KAYS</td>\n",
       "      <td>31.250</td>\n",
       "      <td>-82.400</td>\n",
       "      <td>43.3</td>\n",
       "      <td>19421201</td>\n",
       "      <td>20180420</td>\n",
       "      <td>222.696258</td>\n",
       "    </tr>\n",
       "    <tr>\n",
       "      <th>18146</th>\n",
       "      <td>722137</td>\n",
       "      <td>13878</td>\n",
       "      <td>MALCOLM MC KINNON AIRPORT</td>\n",
       "      <td>US</td>\n",
       "      <td>GA</td>\n",
       "      <td>KSSI</td>\n",
       "      <td>31.152</td>\n",
       "      <td>-81.391</td>\n",
       "      <td>4.9</td>\n",
       "      <td>19730101</td>\n",
       "      <td>20180420</td>\n",
       "      <td>262.984421</td>\n",
       "    </tr>\n",
       "    <tr>\n",
       "      <th>18186</th>\n",
       "      <td>722160</td>\n",
       "      <td>13869</td>\n",
       "      <td>SW GEORGIA REGIONAL ARPT</td>\n",
       "      <td>US</td>\n",
       "      <td>GA</td>\n",
       "      <td>KABY</td>\n",
       "      <td>31.536</td>\n",
       "      <td>-84.194</td>\n",
       "      <td>57.9</td>\n",
       "      <td>19730101</td>\n",
       "      <td>20180420</td>\n",
       "      <td>171.671436</td>\n",
       "    </tr>\n",
       "    <tr>\n",
       "      <th>18196</th>\n",
       "      <td>722166</td>\n",
       "      <td>93845</td>\n",
       "      <td>VALDOSTA REGIONAL AIRPORT</td>\n",
       "      <td>US</td>\n",
       "      <td>GA</td>\n",
       "      <td>KVLD</td>\n",
       "      <td>30.783</td>\n",
       "      <td>-83.277</td>\n",
       "      <td>60.4</td>\n",
       "      <td>19480101</td>\n",
       "      <td>20180420</td>\n",
       "      <td>232.092903</td>\n",
       "    </tr>\n",
       "    <tr>\n",
       "      <th>18204</th>\n",
       "      <td>722170</td>\n",
       "      <td>03813</td>\n",
       "      <td>MIDDLE GEORGIA REGIONAL AIRPORT</td>\n",
       "      <td>US</td>\n",
       "      <td>GA</td>\n",
       "      <td>KMCN</td>\n",
       "      <td>32.685</td>\n",
       "      <td>-83.653</td>\n",
       "      <td>104.6</td>\n",
       "      <td>19411020</td>\n",
       "      <td>20180420</td>\n",
       "      <td>100.919468</td>\n",
       "    </tr>\n",
       "    <tr>\n",
       "      <th>18213</th>\n",
       "      <td>722175</td>\n",
       "      <td>13860</td>\n",
       "      <td>ROBINS AFB AIRPORT</td>\n",
       "      <td>US</td>\n",
       "      <td>GA</td>\n",
       "      <td>KWRB</td>\n",
       "      <td>32.633</td>\n",
       "      <td>-83.600</td>\n",
       "      <td>89.6</td>\n",
       "      <td>19420807</td>\n",
       "      <td>20180420</td>\n",
       "      <td>105.452655</td>\n",
       "    </tr>\n",
       "    <tr>\n",
       "      <th>18223</th>\n",
       "      <td>722180</td>\n",
       "      <td>03820</td>\n",
       "      <td>AUGUSTA REGIONAL AT BUSH FIELD AP</td>\n",
       "      <td>US</td>\n",
       "      <td>GA</td>\n",
       "      <td>KAGS</td>\n",
       "      <td>33.364</td>\n",
       "      <td>-81.963</td>\n",
       "      <td>40.2</td>\n",
       "      <td>19480101</td>\n",
       "      <td>20180420</td>\n",
       "      <td>145.457018</td>\n",
       "    </tr>\n",
       "    <tr>\n",
       "      <th>18241</th>\n",
       "      <td>722190</td>\n",
       "      <td>13874</td>\n",
       "      <td>HARTSFIELD-JACKSON ATLANTA INTL AP</td>\n",
       "      <td>US</td>\n",
       "      <td>GA</td>\n",
       "      <td>KATL</td>\n",
       "      <td>33.630</td>\n",
       "      <td>-84.442</td>\n",
       "      <td>307.9</td>\n",
       "      <td>19730101</td>\n",
       "      <td>20180420</td>\n",
       "      <td>27.491922</td>\n",
       "    </tr>\n",
       "    <tr>\n",
       "      <th>18331</th>\n",
       "      <td>722250</td>\n",
       "      <td>13829</td>\n",
       "      <td>LAWSON AAF AIRPORT</td>\n",
       "      <td>US</td>\n",
       "      <td>GA</td>\n",
       "      <td>KLSF</td>\n",
       "      <td>32.350</td>\n",
       "      <td>-85.000</td>\n",
       "      <td>70.7</td>\n",
       "      <td>19390501</td>\n",
       "      <td>20180420</td>\n",
       "      <td>121.096246</td>\n",
       "    </tr>\n",
       "    <tr>\n",
       "      <th>18336</th>\n",
       "      <td>722255</td>\n",
       "      <td>93842</td>\n",
       "      <td>COLUMBUS METRO AIRPORT</td>\n",
       "      <td>US</td>\n",
       "      <td>GA</td>\n",
       "      <td>KCSG</td>\n",
       "      <td>32.516</td>\n",
       "      <td>-84.942</td>\n",
       "      <td>119.5</td>\n",
       "      <td>19480101</td>\n",
       "      <td>20180420</td>\n",
       "      <td>109.168699</td>\n",
       "    </tr>\n",
       "    <tr>\n",
       "      <th>18352</th>\n",
       "      <td>722270</td>\n",
       "      <td>13864</td>\n",
       "      <td>DOBBINS AIR RESERVE BASE AIRPORT</td>\n",
       "      <td>US</td>\n",
       "      <td>GA</td>\n",
       "      <td>KMGE</td>\n",
       "      <td>33.917</td>\n",
       "      <td>-84.517</td>\n",
       "      <td>325.5</td>\n",
       "      <td>19460901</td>\n",
       "      <td>20180420</td>\n",
       "      <td>11.541827</td>\n",
       "    </tr>\n",
       "    <tr>\n",
       "      <th>18991</th>\n",
       "      <td>723110</td>\n",
       "      <td>13873</td>\n",
       "      <td>ATHENS/BEN EPPS AIRPORT</td>\n",
       "      <td>US</td>\n",
       "      <td>GA</td>\n",
       "      <td>KAHN</td>\n",
       "      <td>33.948</td>\n",
       "      <td>-83.328</td>\n",
       "      <td>239.3</td>\n",
       "      <td>19730101</td>\n",
       "      <td>20180420</td>\n",
       "      <td>59.569724</td>\n",
       "    </tr>\n",
       "    <tr>\n",
       "      <th>19053</th>\n",
       "      <td>723200</td>\n",
       "      <td>93801</td>\n",
       "      <td>RICHARD B RUSSELL AIRPORT</td>\n",
       "      <td>US</td>\n",
       "      <td>GA</td>\n",
       "      <td>KRMG</td>\n",
       "      <td>34.348</td>\n",
       "      <td>-85.161</td>\n",
       "      <td>194.8</td>\n",
       "      <td>19780101</td>\n",
       "      <td>20180420</td>\n",
       "      <td>50.969198</td>\n",
       "    </tr>\n",
       "    <tr>\n",
       "      <th>22384</th>\n",
       "      <td>749483</td>\n",
       "      <td>99999</td>\n",
       "      <td>JACKSON CO</td>\n",
       "      <td>US</td>\n",
       "      <td>GA</td>\n",
       "      <td>NaN</td>\n",
       "      <td>34.174</td>\n",
       "      <td>-83.561</td>\n",
       "      <td>289.9</td>\n",
       "      <td>19450201</td>\n",
       "      <td>20180419</td>\n",
       "      <td>47.067310</td>\n",
       "    </tr>\n",
       "  </tbody>\n",
       "</table>\n",
       "</div>"
      ],
      "text/plain": [
       "         USAF   WBAN                        STATION NAME CTRY STATE  ICAO  \\\n",
       "18030  722070  03822   SAVANNAH/HILTON HEAD INTL AIRPORT   US    GA  KSAV   \n",
       "18132  722130  13861           WAYCROSS-WARE CO. AIRPORT   US    GA  KAYS   \n",
       "18146  722137  13878           MALCOLM MC KINNON AIRPORT   US    GA  KSSI   \n",
       "18186  722160  13869            SW GEORGIA REGIONAL ARPT   US    GA  KABY   \n",
       "18196  722166  93845           VALDOSTA REGIONAL AIRPORT   US    GA  KVLD   \n",
       "18204  722170  03813     MIDDLE GEORGIA REGIONAL AIRPORT   US    GA  KMCN   \n",
       "18213  722175  13860                  ROBINS AFB AIRPORT   US    GA  KWRB   \n",
       "18223  722180  03820   AUGUSTA REGIONAL AT BUSH FIELD AP   US    GA  KAGS   \n",
       "18241  722190  13874  HARTSFIELD-JACKSON ATLANTA INTL AP   US    GA  KATL   \n",
       "18331  722250  13829                  LAWSON AAF AIRPORT   US    GA  KLSF   \n",
       "18336  722255  93842              COLUMBUS METRO AIRPORT   US    GA  KCSG   \n",
       "18352  722270  13864    DOBBINS AIR RESERVE BASE AIRPORT   US    GA  KMGE   \n",
       "18991  723110  13873             ATHENS/BEN EPPS AIRPORT   US    GA  KAHN   \n",
       "19053  723200  93801           RICHARD B RUSSELL AIRPORT   US    GA  KRMG   \n",
       "22384  749483  99999                          JACKSON CO   US    GA   NaN   \n",
       "\n",
       "          LAT     LON  ELEV(M)     BEGIN       END    DISTANCE  \n",
       "18030  32.131 -81.202     14.0  19480101  20180420  224.941914  \n",
       "18132  31.250 -82.400     43.3  19421201  20180420  222.696258  \n",
       "18146  31.152 -81.391      4.9  19730101  20180420  262.984421  \n",
       "18186  31.536 -84.194     57.9  19730101  20180420  171.671436  \n",
       "18196  30.783 -83.277     60.4  19480101  20180420  232.092903  \n",
       "18204  32.685 -83.653    104.6  19411020  20180420  100.919468  \n",
       "18213  32.633 -83.600     89.6  19420807  20180420  105.452655  \n",
       "18223  33.364 -81.963     40.2  19480101  20180420  145.457018  \n",
       "18241  33.630 -84.442    307.9  19730101  20180420   27.491922  \n",
       "18331  32.350 -85.000     70.7  19390501  20180420  121.096246  \n",
       "18336  32.516 -84.942    119.5  19480101  20180420  109.168699  \n",
       "18352  33.917 -84.517    325.5  19460901  20180420   11.541827  \n",
       "18991  33.948 -83.328    239.3  19730101  20180420   59.569724  \n",
       "19053  34.348 -85.161    194.8  19780101  20180420   50.969198  \n",
       "22384  34.174 -83.561    289.9  19450201  20180419   47.067310  "
      ]
     },
     "execution_count": 16,
     "metadata": {},
     "output_type": "execute_result"
    }
   ],
   "source": [
    "stations[stations['STATE'] == 'GA']"
   ]
  },
  {
   "cell_type": "markdown",
   "metadata": {},
   "source": [
    "Those distance values look accurate (I checked using the ruler in Google Earth).\n",
    "\n",
    "We can eyeball this list and see what the closest ASOS unit is, but we'll use Pandas to identify it.'"
   ]
  },
  {
   "cell_type": "code",
   "execution_count": 17,
   "metadata": {},
   "outputs": [],
   "source": [
    "closest_station = stations.loc[stations['DISTANCE'].idxmin()]"
   ]
  },
  {
   "cell_type": "code",
   "execution_count": 18,
   "metadata": {},
   "outputs": [
    {
     "data": {
      "text/plain": [
       "USAF                                      722270\n",
       "WBAN                                       13864\n",
       "STATION NAME    DOBBINS AIR RESERVE BASE AIRPORT\n",
       "CTRY                                          US\n",
       "STATE                                         GA\n",
       "ICAO                                        KMGE\n",
       "LAT                                       33.917\n",
       "LON                                      -84.517\n",
       "ELEV(M)                                    325.5\n",
       "BEGIN                                   19460901\n",
       "END                                     20180420\n",
       "DISTANCE                                 11.5418\n",
       "Name: 18352, dtype: object"
      ]
     },
     "execution_count": 18,
     "metadata": {},
     "output_type": "execute_result"
    }
   ],
   "source": [
    "closest_station"
   ]
  },
  {
   "cell_type": "markdown",
   "metadata": {},
   "source": [
    "So, we now have the 486 stations for which we will use data, and we will be trying to make predictions for the weather at [Dobbins ARB (KMGE)](https://en.wikipedia.org/wiki/Dobbins_Air_Reserve_Base)."
   ]
  },
  {
   "cell_type": "markdown",
   "metadata": {},
   "source": [
    "## Daily Weather for Stations\n",
    "\n",
    "Next we need to obtain the daily weather information for each station for the 20-year period.\n",
    "\n",
    "We will be using the \"isd-lite\" data, which is described in <ftp://ftp.ncdc.noaa.gov/pub/data/noaa/isd-lite/isd-lite-format.txt> and <ftp://ftp.ncdc.noaa.gov/pub/data/noaa/isd-lite/isd-lite-technical-document.txt>, and is available in subdirectories of <ftp://ftp.ncdc.noaa.gov/pub/data/noaa/isd-lite/>. (I have downloaded this data locally, so there is no need for code to download it.)"
   ]
  },
  {
   "cell_type": "code",
   "execution_count": 19,
   "metadata": {},
   "outputs": [],
   "source": [
    "# TODO"
   ]
  },
  {
   "cell_type": "markdown",
   "metadata": {},
   "source": [
    "## High Temperature Prediction\n",
    "\n",
    "We'll start by training a model to predict the high temperature for `closest_station` given the previous day's high, low, and precipitation values for all stations.  Then we can extend this to use the previous _N_ days of data."
   ]
  },
  {
   "cell_type": "markdown",
   "metadata": {},
   "source": [
    "### Training"
   ]
  },
  {
   "cell_type": "code",
   "execution_count": 20,
   "metadata": {},
   "outputs": [],
   "source": [
    "# TODO"
   ]
  },
  {
   "cell_type": "markdown",
   "metadata": {},
   "source": [
    "### Evaluation"
   ]
  },
  {
   "cell_type": "code",
   "execution_count": 21,
   "metadata": {},
   "outputs": [],
   "source": [
    "# TODO"
   ]
  },
  {
   "cell_type": "markdown",
   "metadata": {},
   "source": [
    "## Low Temperature Prediction"
   ]
  },
  {
   "cell_type": "code",
   "execution_count": 22,
   "metadata": {},
   "outputs": [],
   "source": [
    "# TODO"
   ]
  },
  {
   "cell_type": "markdown",
   "metadata": {},
   "source": [
    "## Precipitation Prediction"
   ]
  },
  {
   "cell_type": "code",
   "execution_count": 23,
   "metadata": {},
   "outputs": [],
   "source": [
    "# TODO"
   ]
  },
  {
   "cell_type": "code",
   "execution_count": null,
   "metadata": {},
   "outputs": [],
   "source": []
  }
 ],
 "metadata": {
  "kernelspec": {
   "display_name": "Python 3",
   "language": "python",
   "name": "python3"
  },
  "language_info": {
   "codemirror_mode": {
    "name": "ipython",
    "version": 3
   },
   "file_extension": ".py",
   "mimetype": "text/x-python",
   "name": "python",
   "nbconvert_exporter": "python",
   "pygments_lexer": "ipython3",
   "version": "3.6.5"
  }
 },
 "nbformat": 4,
 "nbformat_minor": 2
}
